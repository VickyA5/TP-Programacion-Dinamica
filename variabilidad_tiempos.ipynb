{
 "cells": [
  {
   "cell_type": "code",
   "execution_count": 4,
   "metadata": {},
   "outputs": [],
   "source": [
    "from utils.utils import time_algorithm\n",
    "import numpy as np\n",
    "from problema import valor_max_sophia"
   ]
  },
  {
   "cell_type": "code",
   "execution_count": 7,
   "metadata": {},
   "outputs": [
    {
     "name": "stdout",
     "output_type": "stream",
     "text": [
      "{np.int64(1000): 0.27790131568908694}\n",
      "{np.int64(1000): 0.2773725509643555}\n"
     ]
    }
   ],
   "source": [
    "# Exectute the algorithm with random arrays and measure the time it takes to run\n",
    "\n",
    "def get_random_array(size, max_coin_value):\n",
    "    return list(np.random.randint(1, max_coin_value, size))\n",
    "\n",
    "# Run the algorithm n times, with input sizes from min_size to max_size\n",
    "min_size = 1000\n",
    "max_size = 1000\n",
    "n = 1\n",
    "x = np.linspace(min_size, max_size, n).astype(int)\n",
    "\n",
    "# Obtain results\n",
    "results_baja_variabilidad = time_algorithm(valor_max_sophia, x, lambda s: [get_random_array(s, 100)])\n",
    "print(results_baja_variabilidad)\n",
    "\n",
    "results_alta_variabilidad = time_algorithm(valor_max_sophia, x, lambda s: [get_random_array(s, 10000)])\n",
    "print(results_alta_variabilidad)"
   ]
  }
 ],
 "metadata": {
  "kernelspec": {
   "display_name": "Python 3",
   "language": "python",
   "name": "python3"
  },
  "language_info": {
   "codemirror_mode": {
    "name": "ipython",
    "version": 3
   },
   "file_extension": ".py",
   "mimetype": "text/x-python",
   "name": "python",
   "nbconvert_exporter": "python",
   "pygments_lexer": "ipython3",
   "version": "3.9.6"
  }
 },
 "nbformat": 4,
 "nbformat_minor": 2
}
